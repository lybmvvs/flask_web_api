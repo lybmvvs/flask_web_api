{
 "cells": [
  {
   "cell_type": "code",
   "execution_count": 1,
   "id": "2bc21dec",
   "metadata": {},
   "outputs": [],
   "source": [
    "data={\n",
    "    \"ipr\":{\"q_liq\": [0,10,30], \"p_wf\": [100,90,70]},\n",
    "    \"vlp\": {\"q_liq\": [0,10,20], \"p_wf\": [85,95,100]}\n",
    "}"
   ]
  },
  {
   "cell_type": "code",
   "execution_count": 2,
   "id": "113a0789",
   "metadata": {},
   "outputs": [],
   "source": [
    "import numpy as np\n",
    "import matplotlib.pyplot as plt\n"
   ]
  },
  {
   "cell_type": "code",
   "execution_count": 3,
   "id": "a6398331",
   "metadata": {},
   "outputs": [],
   "source": [
    "from scipy import interpolate"
   ]
  },
  {
   "cell_type": "code",
   "execution_count": 4,
   "id": "d7deb5ea",
   "metadata": {},
   "outputs": [],
   "source": [
    "from scipy.optimize import fsolve\n"
   ]
  },
  {
   "cell_type": "code",
   "execution_count": 5,
   "id": "b7725af7",
   "metadata": {},
   "outputs": [
    {
     "data": {
      "text/plain": [
       "[0, 10, 30]"
      ]
     },
     "execution_count": 5,
     "metadata": {},
     "output_type": "execute_result"
    }
   ],
   "source": [
    "x_ipr=data['ipr']['q_liq']\n",
    "y_ipr=data['ipr']['p_wf']\n",
    "x_vlp=data['vlp']['q_liq']\n",
    "y_vlp=data['vlp']['p_wf']\n",
    "x_ipr"
   ]
  },
  {
   "cell_type": "code",
   "execution_count": 6,
   "id": "6f98fa3d",
   "metadata": {},
   "outputs": [
    {
     "data": {
      "text/plain": [
       "[100, 90, 70]"
      ]
     },
     "execution_count": 6,
     "metadata": {},
     "output_type": "execute_result"
    }
   ],
   "source": [
    "y_ipr"
   ]
  },
  {
   "cell_type": "code",
   "execution_count": 7,
   "id": "fe532ccf",
   "metadata": {},
   "outputs": [],
   "source": [
    "ipr = interpolate.interp1d(x_ipr, y_ipr,fill_value='extrapolate')\n",
    "vlp = interpolate.interp1d(x_vlp, y_vlp,fill_value='extrapolate')"
   ]
  },
  {
   "cell_type": "code",
   "execution_count": 8,
   "id": "46e4ad24",
   "metadata": {},
   "outputs": [],
   "source": [
    "#max_values=[]\n",
    "#max_values.append(max(x_ipr))\n",
    "#max_values.append(max(x_vlp))"
   ]
  },
  {
   "cell_type": "code",
   "execution_count": 9,
   "id": "676bc010",
   "metadata": {},
   "outputs": [
    {
     "data": {
      "text/plain": [
       "[<matplotlib.lines.Line2D at 0x1fa2b36f460>,\n",
       " <matplotlib.lines.Line2D at 0x1fa2b36f490>]"
      ]
     },
     "execution_count": 9,
     "metadata": {},
     "output_type": "execute_result"
    },
    {
     "data": {
      "image/png": "[encoded data removed]",
      "text/plain": [
       "<Figure size 432x288 with 1 Axes>"
      ]
     },
     "metadata": {
      "needs_background": "light"
     },
     "output_type": "display_data"
    }
   ],
   "source": [
    "xnew = np.linspace(0,max(x_ipr+x_vlp),max(x_ipr+x_vlp)*1000+1)\n",
    "plt.plot(xnew, ipr(xnew), xnew, vlp(xnew))"
   ]
  },
  {
   "cell_type": "code",
   "execution_count": 10,
   "id": "19142162",
   "metadata": {},
   "outputs": [],
   "source": [
    "#def findIntersection(fun1,fun2,x0):\n",
    "#    return fsolve(lambda x : fun1(x) - fun2(x),x0)\n",
    "#\n",
    "#result = []\n",
    "#for x in range(0,min(max_values)):\n",
    "#    result.append(float(findIntersection(ipr,vlp,x)))\n",
    "#result"
   ]
  },
  {
   "cell_type": "code",
   "execution_count": 11,
   "id": "36dab7d5",
   "metadata": {},
   "outputs": [],
   "source": [
    "\n",
    "def myIntersection(fun1,fun2,x0):\n",
    "    x_coord=[]\n",
    "    for i in x0:\n",
    "        if fun1(i)==fun2(i):\n",
    "            x_coord.append(i)\n",
    "        else:\n",
    "            pass\n",
    "    return x_coord\n",
    "\n",
    "            "
   ]
  },
  {
   "cell_type": "code",
   "execution_count": 12,
   "id": "14fafab5",
   "metadata": {},
   "outputs": [
    {
     "data": {
      "text/plain": [
       "[7.5]"
      ]
     },
     "execution_count": 12,
     "metadata": {},
     "output_type": "execute_result"
    }
   ],
   "source": [
    "a=myIntersection(ipr,vlp,xnew)\n",
    "a"
   ]
  },
  {
   "cell_type": "code",
   "execution_count": 13,
   "id": "7a1d3077",
   "metadata": {},
   "outputs": [
    {
     "data": {
      "text/plain": [
       "[92.5]"
      ]
     },
     "execution_count": 13,
     "metadata": {},
     "output_type": "execute_result"
    }
   ],
   "source": [
    "b=list(ipr(a))\n",
    "b"
   ]
  },
  {
   "cell_type": "code",
   "execution_count": 14,
   "id": "435898c8",
   "metadata": {},
   "outputs": [
    {
     "data": {
      "text/plain": [
       "{'q_liq': [7.5], 'p_wf': [92.5]}"
      ]
     },
     "execution_count": 14,
     "metadata": {},
     "output_type": "execute_result"
    }
   ],
   "source": [
    "output_file={\"q_liq\":a, \"p_wf\":b}\n",
    "output_file"
   ]
  },
  {
   "cell_type": "code",
   "execution_count": 15,
   "id": "1bf7db82",
   "metadata": {},
   "outputs": [],
   "source": [
    "#ipr(7.5)"
   ]
  },
  {
   "cell_type": "code",
   "execution_count": 16,
   "id": "04b7bb81",
   "metadata": {},
   "outputs": [],
   "source": [
    "#vlp(7.5)"
   ]
  },
  {
   "cell_type": "code",
   "execution_count": 17,
   "id": "2b609c5b",
   "metadata": {},
   "outputs": [],
   "source": [
    "#vlp(7.5)==ipr(7.5)"
   ]
  },
  {
   "cell_type": "code",
   "execution_count": 18,
   "id": "458a351b",
   "metadata": {},
   "outputs": [],
   "source": [
    "#7.5 in xnew"
   ]
  },
  {
   "cell_type": "code",
   "execution_count": 19,
   "id": "d6e1b85c",
   "metadata": {},
   "outputs": [],
   "source": [
    "#xnew"
   ]
  }
 ],
 "metadata": {
  "kernelspec": {
   "display_name": "Python 3 (ipykernel)",
   "language": "python",
   "name": "python3"
  },
  "language_info": {
   "codemirror_mode": {
    "name": "ipython",
    "version": 3
   },
   "file_extension": ".py",
   "mimetype": "text/x-python",
   "name": "python",
   "nbconvert_exporter": "python",
   "pygments_lexer": "ipython3",
   "version": "3.9.7"
  }
 },
 "nbformat": 4,
 "nbformat_minor": 5
}
